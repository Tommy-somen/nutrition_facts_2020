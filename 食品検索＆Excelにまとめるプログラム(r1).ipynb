{
  "nbformat": 4,
  "nbformat_minor": 0,
  "metadata": {
    "colab": {
      "name": "食品検索＆Excelにまとめるプログラム(r1).ipynb",
      "provenance": [],
      "collapsed_sections": [],
      "mount_file_id": "1TngD6U3-OvzY19tM46qqZj1f96PMOxjv",
      "authorship_tag": "ABX9TyM9OGgKyYjEIRL5cEWbjsDS",
      "include_colab_link": true
    },
    "kernelspec": {
      "name": "python3",
      "display_name": "Python 3"
    },
    "language_info": {
      "name": "python"
    }
  },
  "cells": [
    {
      "cell_type": "markdown",
      "metadata": {
        "id": "view-in-github",
        "colab_type": "text"
      },
      "source": [
        "<a href=\"https://colab.research.google.com/github/Tommy-somen/nutrition_facts_2020/blob/master/%E9%A3%9F%E5%93%81%E6%A4%9C%E7%B4%A2%EF%BC%86Excel%E3%81%AB%E3%81%BE%E3%81%A8%E3%82%81%E3%82%8B%E3%83%97%E3%83%AD%E3%82%B0%E3%83%A9%E3%83%A0(r1).ipynb\" target=\"_parent\"><img src=\"https://colab.research.google.com/assets/colab-badge.svg\" alt=\"Open In Colab\"/></a>"
      ]
    },
    {
      "cell_type": "markdown",
      "source": [
        "# 食品標準成分表2020をもとにした食品検索＆Excelにまとめるプログラム\n",
        "---\n",
        "- Google DriveにGithubに含まれる3ファイル(これを含む)を「栄養計算」フォルダにインプットしてください。\n",
        "- 使用ファイル：\n",
        "  - 食品検索＆Excelにまとめるプログラム(r1).ipynb\n",
        "  - 20201225-mxt_kagsei-mext_01110_012.xlsx\n",
        "  -ヘッダー.xlsx\n",
        "- 参考：https://fooddb.mext.go.jp/index.pl\n",
        "---\n",
        "- 変更履歴(2022/02/22):g計算ができるように変更しました。"
      ],
      "metadata": {
        "id": "s-HyskJ7EjMx"
      }
    },
    {
      "cell_type": "code",
      "source": [
        "#Google Driveにアクセス\n",
        "from google.colab import drive\n",
        "drive.mount(\"/content/drive\")"
      ],
      "metadata": {
        "colab": {
          "base_uri": "https://localhost:8080/"
        },
        "id": "d8Q5-k8s_W-r",
        "outputId": "54b1d237-501b-4945-acd1-e83af4faa2ba"
      },
      "execution_count": null,
      "outputs": [
        {
          "output_type": "stream",
          "name": "stdout",
          "text": [
            "Mounted at /content/drive\n"
          ]
        }
      ]
    },
    {
      "cell_type": "code",
      "source": [
        "cd /content/drive/MyDrive/栄養計算"
      ],
      "metadata": {
        "colab": {
          "base_uri": "https://localhost:8080/"
        },
        "id": "bqtlafLETony",
        "outputId": "6704dc7d-acd8-47d8-dd4a-ab5e98ce2c4e"
      },
      "execution_count": null,
      "outputs": [
        {
          "output_type": "stream",
          "name": "stdout",
          "text": [
            "/content/drive/MyDrive/栄養計算\n"
          ]
        }
      ]
    },
    {
      "cell_type": "markdown",
      "source": [
        "# 1. はじめに実行する2点\n",
        "- 1.1 はじめに実行してください。：driveへのアクセス、モジュールや関数の準備をします。\n",
        "- 1.2 食品成分表の取得：excelファイルの情報を取得します。"
      ],
      "metadata": {
        "id": "-TXq5wM4_eol"
      }
    },
    {
      "cell_type": "code",
      "source": [
        "#@title 1.1 モジュール、変数、関数の取得\n",
        "\n",
        "#モジュールのインポート\n",
        "import numpy as np\n",
        "import pandas as pd\n",
        "import openpyxl\n",
        "import pprint\n",
        "import os\n",
        "import shutil\n",
        "\n",
        "#表示数の設定\n",
        "pd.set_option('display.max_columns', 100)\n",
        "pd.set_option('display.max_colwidth', 100)\n",
        "\n",
        "#利用する関数\n",
        "#excelに2次元配列を追記する関数\n",
        "def write_list_2d(sheet, l_2d, start_row, start_col):\n",
        "    for y, row in enumerate(l_2d):\n",
        "        for x, cell in enumerate(row):\n",
        "            sheet.cell(row=start_row + y,\n",
        "                       column=start_col + x,\n",
        "                       value=l_2d[y][x])\n",
        "\n",
        "#１度全て文字列に変換する関する\n",
        "def cast_string(df,cols):\n",
        "  for col in cols:\n",
        "    df[col] = df[col].astype(\"string\")\n",
        "\n",
        "  return df\n",
        "\n",
        "  # * を消す関数\n",
        "def del_astrisk(df,cols):\n",
        "  for col in cols:\n",
        "    df[col] = df[col].replace(\"*\",\"0\")\n",
        "  return df\n",
        "\n",
        "#( )を消す関数\n",
        "def del_brackets(df,cols):\n",
        "  for col in cols:\n",
        "    try:\n",
        "      df[col] = df[col].str.replace('(', \"\").str.replace(')',\"\")\n",
        "    except AttributeError:\n",
        "      pass\n",
        "\n",
        "  return df\n",
        "\n",
        "# - を消す関数\n",
        "def del_bar(df,cols):\n",
        "  for col in cols:\n",
        "    df[col] = df[col].replace(\"-\",\"0\")\n",
        "\n",
        "  return df\n",
        "\n",
        "# Tr を消す関数\n",
        "def del_Tr(df,cols):\n",
        "  for col in cols:\n",
        "    df[col] = df[col].replace(\"Tr\",\"0\")\n",
        "\n",
        "  return df\n",
        "\n",
        "#float64に変換する関数\n",
        "def convert_float(df,cols):\n",
        "  for col in cols:\n",
        "    df[col] = df[col].astype(float)\n",
        "\n",
        "  return df \n",
        "\n",
        "#十字架みたいなのを消す関数\n",
        "def del_cross(df,cols):\n",
        "  for col in cols:\n",
        "    df[col] = df[col].str.replace(\"†\",\"\")\n",
        "\n",
        "  return df\n",
        "\n",
        "#元データをクレンジングして修正後のdfを返す関数\n",
        "def cleansing_df(original_df, cols, calcable_cols, ):\n",
        "  \n",
        "  tmp2 = cast_string(original_df,cols)\n",
        "  tmp3 = del_brackets(tmp2,cols)\n",
        "  tmp4 = del_bar(tmp3,cols)\n",
        "  tmp5 = del_Tr(tmp4,cols)\n",
        "  tmp6 = del_cross(tmp5,cols)\n",
        "  tmp7 = del_astrisk(tmp6, calcable_cols)\n",
        "  tmp8 = convert_float(tmp7, calcable_cols)\n",
        "  \n",
        "  return tmp8\n",
        "\n",
        "#変数\n",
        "cols = ['廃棄率(%)', 'エネルギー(kj)', 'カロリー(kcal)', '水分(g)',\n",
        "       '(たんぱく質)アミノ酸組成によるたんぱく質(g)', 'たんぱく質(g)', '(脂質)脂肪酸のトリアシルグリセロール当量(g)',\n",
        "       '(脂質)コレステロール(mg)', '(脂質)脂質(g)', '(炭水化物)利用可能炭水化物（単糖当量）(g)',\n",
        "       '(炭水化物)利用可能炭水化物（単糖当量）(g)(備考)', '(炭水化物)利用可能炭水化物（質量計）(g)',\n",
        "       '(炭水化物)差引き法による利用可能炭水化物　(g)', '(炭水化物)差引き法による利用可能炭水化物　(g)(備考)',\n",
        "       '(炭水化物)食物繊維総量(g)', '(炭水化物)糖アルコール(g)', '(炭水化物)炭水化物(g)', '有機酸(g)',\n",
        "       '灰分(g)', '(無機質) ナトリウム(mg)', '(無機質) カリウム(mg)', '(無機質) カルシウム(mg)',\n",
        "       '(無機質) マグネシウム(mg)', '(無機質) リン(mg)', '(無機質) 鉄(mg)', '(無機質) 亜鉛(mg)',\n",
        "       '(無機質) 銅(mg)', '(無機質) マンガン(mg)', '空白', '(無機質) ヨウ素(μg)', '(無機質) セレン(μg)',\n",
        "       '(無機質) クロム(μg)', '(無機質) モリブデン(μg)', '(ビタミンA)レチノール(μg)',\n",
        "       '(ビタミンA) α|カロテン(μg)', '(ビタミンA) β|カロテン(μg)', '(ビタミンA) β|クリプトキサンチン(μg)',\n",
        "       '(ビタミンA) β|カロテン当量(μg)', '(ビタミンA) レチノール活性当量(μg)', 'ビタミンD(μg)',\n",
        "       '(ビタミンE) α|トコフェロール(mg)', '(ビタミンE)  β|トコフェロール(mg)',\n",
        "       '(ビタミンE) γ|トコフェロール(mg)', '(ビタミンE) δ|トコフェロール(mg)', 'ビタミンK(μg)',\n",
        "       'ビタミンＢ１(mg)', 'ビタミンB２(mg)', 'ナイアシン(mg)', 'ナイアシン当量(mg)', 'ビタミンＢ６(mg)',\n",
        "       'ビタミンＢ１２(mg)', '葉酸(μg)', 'パントテン酸(mg)', 'ビオチン(μg)', 'ビタミンC(mg)',\n",
        "       'アルコール(g)', '食塩相当量(g)']\n",
        "\n",
        "calcable_cols = ['廃棄率(%)', 'エネルギー(kj)', 'カロリー(kcal)', '水分(g)',\n",
        "       '(たんぱく質)アミノ酸組成によるたんぱく質(g)', 'たんぱく質(g)', '(脂質)脂肪酸のトリアシルグリセロール当量(g)',\n",
        "       '(脂質)コレステロール(mg)', '(脂質)脂質(g)', '(炭水化物)利用可能炭水化物（単糖当量）(g)','(炭水化物)利用可能炭水化物（質量計）(g)',\n",
        "       '(炭水化物)差引き法による利用可能炭水化物　(g)',\n",
        "       '(炭水化物)食物繊維総量(g)', '(炭水化物)糖アルコール(g)', '(炭水化物)炭水化物(g)', '有機酸(g)',\n",
        "       '灰分(g)', '(無機質) ナトリウム(mg)', '(無機質) カリウム(mg)', '(無機質) カルシウム(mg)',\n",
        "       '(無機質) マグネシウム(mg)', '(無機質) リン(mg)', '(無機質) 鉄(mg)', '(無機質) 亜鉛(mg)',\n",
        "       '(無機質) 銅(mg)', '(無機質) マンガン(mg)', '(無機質) ヨウ素(μg)', '(無機質) セレン(μg)',\n",
        "       '(無機質) クロム(μg)', '(無機質) モリブデン(μg)', '(ビタミンA)レチノール(μg)',\n",
        "       '(ビタミンA) α|カロテン(μg)', '(ビタミンA) β|カロテン(μg)', '(ビタミンA) β|クリプトキサンチン(μg)',\n",
        "       '(ビタミンA) β|カロテン当量(μg)', '(ビタミンA) レチノール活性当量(μg)', 'ビタミンD(μg)',\n",
        "       '(ビタミンE) α|トコフェロール(mg)', '(ビタミンE)  β|トコフェロール(mg)',\n",
        "       '(ビタミンE) γ|トコフェロール(mg)', '(ビタミンE) δ|トコフェロール(mg)', 'ビタミンK(μg)',\n",
        "       'ビタミンＢ１(mg)', 'ビタミンB２(mg)', 'ナイアシン(mg)', 'ナイアシン当量(mg)', 'ビタミンＢ６(mg)',\n",
        "       'ビタミンＢ１２(mg)', '葉酸(μg)', 'パントテン酸(mg)', 'ビオチン(μg)', 'ビタミンC(mg)',\n",
        "       'アルコール(g)', '食塩相当量(g)']\n"
      ],
      "metadata": {
        "cellView": "form",
        "id": "LS5s5K6C6HNg"
      },
      "execution_count": null,
      "outputs": []
    },
    {
      "cell_type": "code",
      "source": [
        "#@title 1.2  食品成分表の取得\n",
        "df = pd.read_excel(\"20201225-mxt_kagsei-mext_01110_012.xlsx\",\n",
        "                     keep_default_na=False, # 空欄をNaで置き換えない\n",
        "                     header=0, # headerは指定しない\n",
        "                     )\n",
        "\n",
        "#df = df.drop(columns=[\"Unnamed: 0\"])\n",
        "df[\"食品名\"] = df[\"食品名\"].replace(\"\\u3000\", \" \")\n",
        "\n",
        "df = cleansing_df(df ,cols, calcable_cols)"
      ],
      "metadata": {
        "cellView": "form",
        "id": "CMKaAItakeiR",
        "colab": {
          "base_uri": "https://localhost:8080/"
        },
        "outputId": "8bc50e7f-0b3b-46f5-cbf6-188661f8b52f"
      },
      "execution_count": null,
      "outputs": [
        {
          "output_type": "stream",
          "name": "stderr",
          "text": [
            "/usr/local/lib/python3.7/dist-packages/ipykernel_launcher.py:41: FutureWarning: The default value of regex will change from True to False in a future version. In addition, single character regular expressions will *not* be treated as literal strings when regex=True.\n"
          ]
        }
      ]
    },
    {
      "cell_type": "markdown",
      "source": [
        "# 2. 食品情報の検索（キーワードを指定して検索&検索結果をexcel形式で出力）\n",
        "- ○2.1  検索と検索結果の表示：キーワードを入力すると、それが含まれる食品情報が表示されます。\n",
        "- ○2.2  上記検索結果をExcelで出力：検索結果をExcelで出力できます。(結果を反映する新規ファイル名を入力してください)\n"
      ],
      "metadata": {
        "id": "AIcHMFfMgnvz"
      }
    },
    {
      "cell_type": "code",
      "source": [
        "#@title ○2.1  検索と検索結果の表示\n",
        "keyword = \"\\u3044\\u3082\\u985E\"#@param {type:\"string\"}\n",
        "\n",
        "\n",
        "new_data = []\n",
        "all_data = list(df[\"食品名\"])\n",
        "\n",
        "vals = []\n",
        "for name in all_data:\n",
        "  if keyword in name:\n",
        "    vals.append(name)\n",
        "\n",
        "result = df[df[\"食品名\"].isin(vals)]\n",
        "result"
      ],
      "metadata": {
        "id": "nC4S_4LKeJUj",
        "cellView": "form"
      },
      "execution_count": null,
      "outputs": []
    },
    {
      "cell_type": "code",
      "source": [
        "#@title ○2.2  上記検索結果をExcelで出力\n",
        "\n",
        "#ファイルコピー\n",
        "input_name = \"\\u4E73_\\u691C\\u7D22\\u7D50\\u679C4\"#@param{type:\"string\"}\n",
        "filename = \"./\"+input_name+\".xlsx\"\n",
        "src = './ヘッダー.xlsx'\n",
        "copy = \"./tmp.xlsx\"\n",
        "shutil.copyfile(src,copy)\n",
        "\n",
        "#excelシートの内容を取得\n",
        "wb = openpyxl.load_workbook('./tmp.xlsx')\n",
        "sheet = wb['表全体']\n",
        "\n",
        "#検索結果のリスト化         \n",
        "L = result.values.tolist()\n",
        "\n",
        "#シートへの追記\n",
        "write_list_2d(sheet, L, 13, 1)\n",
        "\n",
        "#renameにして上書き\n",
        "wb.save(filename)\n",
        "\n",
        "#tmpファイルの削除\n",
        "os.remove(\"./tmp.xlsx\")"
      ],
      "metadata": {
        "cellView": "form",
        "id": "MBc9rSc3r2Yw"
      },
      "execution_count": null,
      "outputs": []
    },
    {
      "cell_type": "markdown",
      "source": [
        "# 3.  取得したい食品情報の追加\n",
        "- ○3.1  初期化：最初もしくは食品情報の追加を初めからやり直したい場合に実行してください。\n",
        "- ○3.2  追加する食品情報の入力：食品情報の正式名称を入力してください。(検索結果をコピペを推奨します)\n",
        "  - 複数追加する場合は、初期化を実行せずに名称を入力してください。"
      ],
      "metadata": {
        "id": "dLeJhBynhUwp"
      }
    },
    {
      "cell_type": "code",
      "source": [
        "#@title ○3.1 初期化\n",
        "\n",
        "add_info_list = []"
      ],
      "metadata": {
        "id": "BSGK9apfhXb5",
        "cellView": "form"
      },
      "execution_count": null,
      "outputs": []
    },
    {
      "cell_type": "code",
      "source": [
        "#@title ○3.2  追加する食品情報の入力(推奨：検索結果の名称をコピペ)\n",
        "add_food_info = \"\\uFF1C\\u3044\\u3082\\u985E\\uFF1E\\u3000\\uFF08\\u3084\\u307E\\u306E\\u3044\\u3082\\u985E\\uFF09\\u3000\\u3060\\u3044\\u3058\\u3087\\u3000\\u584A\\u6839\\u3000\\u751F\"#@param{type:\"string\"}\n",
        "gram_info = \"200\"#@param{type:\"string\"}\n",
        "\n",
        "if add_food_info == \"\":\n",
        "  pass\n",
        "\n",
        "else:\n",
        "  for item in add_info_list:\n",
        "    if  add_food_info == item[0]:\n",
        "      print(add_food_info,\"は既に追加済みです\")\n",
        "      break\n",
        "    \n",
        "  add_info_list.append([add_food_info,float(gram_info)])\n",
        "  print(add_food_info,\"を\",\"{}グラム分追加しました。\".format(gram_info))\n"
      ],
      "metadata": {
        "colab": {
          "base_uri": "https://localhost:8080/"
        },
        "cellView": "form",
        "id": "0mJYXeaE3gBP",
        "outputId": "36251793-834e-4551-c15b-0d7758306e61"
      },
      "execution_count": null,
      "outputs": [
        {
          "output_type": "stream",
          "name": "stdout",
          "text": [
            "＜いも類＞　（やまのいも類）　だいじょ　塊根　生 を 200グラム分追加しました。\n"
          ]
        }
      ]
    },
    {
      "cell_type": "markdown",
      "source": [
        "# (4. ) 追加した食品情報の取り消し"
      ],
      "metadata": {
        "id": "1xrZDH3Rhesq"
      }
    },
    {
      "cell_type": "code",
      "source": [
        "#@title 4.1  取り消したい食品情報を以下から選択してください。\n",
        "if len(add_info_list) >= 1:\n",
        "  for item in add_info_list:\n",
        "    item2 = item[0]\n",
        "    print(item2)\n",
        "else:\n",
        "  print(\"追加された食品情報は0件です。\")"
      ],
      "metadata": {
        "colab": {
          "base_uri": "https://localhost:8080/"
        },
        "cellView": "form",
        "id": "xYMmybEw2h6z",
        "outputId": "38b9f5a0-d2b3-41d2-d9b2-3d3d9cdd35bc"
      },
      "execution_count": null,
      "outputs": [
        {
          "output_type": "stream",
          "name": "stdout",
          "text": [
            "＜調味料類＞　（ドレッシング類）　乳化液状ドレッシング　ごまドレッシング\n"
          ]
        }
      ]
    },
    {
      "cell_type": "code",
      "source": [
        "#@title 4.2 取り消したい食品情報を入力してください。\n",
        "remove_info = \"\\uFF1C\\u8ABF\\u5473\\u6599\\u985E\\uFF1E\\u3000\\uFF08\\u30C9\\u30EC\\u30C3\\u30B7\\u30F3\\u30B0\\u985E\\uFF09\\u3000\\u4E73\\u5316\\u6DB2\\u72B6\\u30C9\\u30EC\\u30C3\\u30B7\\u30F3\\u30B0\\u3000\\u3054\\u307E\\u30C9\\u30EC\\u30C3\\u30B7\\u30F3\\u30B0\"#@param{type:\"string\"}\n",
        "\n",
        "if len(add_info_list) <= 0:\n",
        "  print(\"追加数が0件のた削除対象はありません。\")\n",
        "else:\n",
        "  i = 0\n",
        "  for item in add_info_list:\n",
        "    if item[0] == remove_info:\n",
        "      add_info_list.pop(i)\n",
        "      break\n",
        "    else:\n",
        "      i += 1\n",
        "  print(remove_info,\"を削除しました。\")\n",
        "  print(\"現在追加されている食品情報は以下となります。\")\n",
        "  for item in add_info_list:\n",
        "     print(item[0])"
      ],
      "metadata": {
        "colab": {
          "base_uri": "https://localhost:8080/"
        },
        "cellView": "form",
        "id": "6cGfT4kv7X1U",
        "outputId": "dd5da621-e2a6-4506-aa62-360813c34515"
      },
      "execution_count": null,
      "outputs": [
        {
          "output_type": "stream",
          "name": "stdout",
          "text": [
            "＜調味料類＞　（ドレッシング類）　乳化液状ドレッシング　ごまドレッシング を削除しました。\n",
            "現在追加されている食品情報は以下となります。\n"
          ]
        }
      ]
    },
    {
      "cell_type": "markdown",
      "source": [
        "# 5.  Excelファイルで出力"
      ],
      "metadata": {
        "id": "aYtsUnn4hYPI"
      }
    },
    {
      "cell_type": "code",
      "source": [
        "#@title 5.1  追加された食品情報をまとめてExcelとして出力\n",
        "\n",
        "\n",
        "#空のdf\n",
        "new_df = df[df[\"食品名\"]==\"xxxxxxxxxx\"]\n",
        "new_df\n",
        "\n",
        "#g計算\n",
        "for item in add_info_list:\n",
        "  part_df = df[df[\"食品名\"] == item[0]]\n",
        "\n",
        "  for col in tmp_cols:\n",
        "    part_df[col] = part_df[col]*(float(item[1])/100)\n",
        "    \n",
        "  new_df = pd.concat([new_df,part_df],axis=0)\n",
        "\n",
        "added_df = new_df\n",
        "\n",
        "#ファイルコピー\n",
        "input_name = \"\"#@param{type:\"string\"}\n",
        "filename = \"./\"+input_name+\".xlsx\"\n",
        "src = './ヘッダー.xlsx'\n",
        "copy = \"./tmp.xlsx\"\n",
        "shutil.copyfile(src,copy)\n",
        "\n",
        "#excelシートの内容を取得\n",
        "wb = openpyxl.load_workbook('./tmp.xlsx')\n",
        "sheet = wb['表全体']\n",
        "\n",
        "#詳細情報のリスト化\n",
        "add_l = added_df.values.tolist()\n",
        "\n",
        "#シートへの追記\n",
        "write_list_2d(sheet, add_l, 13, 1)\n",
        "\n",
        "#renameにして上書き\n",
        "wb.save(filename)\n",
        "\n",
        "#tmpファイルの削除\n",
        "os.remove(\"./tmp.xlsx\")\n"
      ],
      "metadata": {
        "id": "sfo2IXA8heLD",
        "cellView": "form",
        "colab": {
          "base_uri": "https://localhost:8080/"
        },
        "outputId": "71b873d6-e6ae-4f85-9c39-5941de45c071"
      },
      "execution_count": null,
      "outputs": [
        {
          "output_type": "stream",
          "name": "stderr",
          "text": [
            "/usr/local/lib/python3.7/dist-packages/ipykernel_launcher.py:13: SettingWithCopyWarning: \n",
            "A value is trying to be set on a copy of a slice from a DataFrame.\n",
            "Try using .loc[row_indexer,col_indexer] = value instead\n",
            "\n",
            "See the caveats in the documentation: https://pandas.pydata.org/pandas-docs/stable/user_guide/indexing.html#returning-a-view-versus-a-copy\n",
            "  del sys.path[0]\n"
          ]
        }
      ]
    },
    {
      "cell_type": "code",
      "source": [
        ""
      ],
      "metadata": {
        "id": "nn4G82bj10Cm"
      },
      "execution_count": null,
      "outputs": []
    }
  ]
}